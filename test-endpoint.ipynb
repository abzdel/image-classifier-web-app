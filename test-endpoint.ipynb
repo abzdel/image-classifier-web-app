{
 "cells": [
  {
   "cell_type": "code",
   "execution_count": 1,
   "metadata": {},
   "outputs": [],
   "source": [
    "import boto3\n",
    "import json\n",
    "from PIL import Image\n",
    "import io\n",
    "\n",
    "# Set up the SageMaker client\n",
    "sagemaker_client = boto3.client('sagemaker-runtime')\n",
    "\n",
    "# Set up the endpoint name and the input data\n",
    "endpoint_name = \"huggingface-pytorch-inference-2023-05-02-00-15-37-215\"\n"
   ]
  },
  {
   "cell_type": "code",
   "execution_count": 2,
   "metadata": {},
   "outputs": [],
   "source": [
    "# Load the local image\n",
    "image_path = 'tiger.jpg'\n",
    "with open(image_path, 'rb') as f:\n",
    "    image_bytes = f.read()\n",
    "\n",
    "# Convert the image to bytes\n",
    "with io.BytesIO(image_bytes) as buffer:\n",
    "    image = Image.open(buffer)\n",
    "    image.save(buffer, format='JPEG')\n",
    "    image_bytes = buffer.getvalue()\n",
    "\n",
    "# Send the request to the endpoint\n",
    "response = sagemaker_client.invoke_endpoint(\n",
    "    EndpointName=endpoint_name,\n",
    "    ContentType='image/jpeg',\n",
    "    Body=image_bytes\n",
    ")\n",
    "\n",
    "# Get the response\n",
    "result = response['Body'].read().decode('utf-8')"
   ]
  },
  {
   "cell_type": "code",
   "execution_count": null,
   "metadata": {},
   "outputs": [],
   "source": []
  },
  {
   "cell_type": "code",
   "execution_count": 24,
   "metadata": {},
   "outputs": [
    {
     "name": "stdout",
     "output_type": "stream",
     "text": [
      "{'statusCode': 200, 'body': '[{\"score\":0.75298672914505,\"label\":\"tiger, Panthera tigris\"},{\"score\":0.13333521783351898,\"label\":\"tiger cat\"},{\"score\":0.0005143850576132536,\"label\":\"lynx, catamount\"},{\"score\":0.000501271104440093,\"label\":\"jaguar, panther, Panthera onca, Felis onca\"},{\"score\":0.00030192412668839097,\"label\":\"theater curtain, theatre curtain\"}]'}\n"
     ]
    }
   ],
   "source": [
    "import base64\n",
    "import json\n",
    "import boto3\n",
    "import os\n",
    "import requests\n",
    "\n",
    "with open(\"tiger.jpg\", \"rb\") as image_file:\n",
    "    encoded_image = base64.b64encode(image_file.read()).decode(\"utf-8\")\n",
    "\n",
    "# Create a test event\n",
    "event = {\"body\": encoded_image}\n",
    "\n",
    "# Invoke the lambda function\n",
    "client = boto3.client(\"lambda\")\n",
    "response = client.invoke(\n",
    "    FunctionName=\"classify\",\n",
    "    Payload=json.dumps(event)\n",
    ")\n",
    "\n",
    "\n",
    "# Print the response from the lambda function\n",
    "#print(response[\"Payload\"].read().decode(\"utf-8\"))\n",
    "\n",
    "response_dict = json.loads(response[\"Payload\"].read().decode(\"utf-8\"))\n",
    "print(json.loads(response_dict.get('body')))"
   ]
  },
  {
   "cell_type": "code",
   "execution_count": 36,
   "metadata": {},
   "outputs": [
    {
     "data": {
      "text/plain": [
       "[{'score': 0.75298672914505, 'label': 'tiger, Panthera tigris'},\n",
       " {'score': 0.13333521783351898, 'label': 'tiger cat'},\n",
       " {'score': 0.0005143850576132536, 'label': 'lynx, catamount'},\n",
       " {'score': 0.000501271104440093,\n",
       "  'label': 'jaguar, panther, Panthera onca, Felis onca'},\n",
       " {'score': 0.00030192412668839097,\n",
       "  'label': 'theater curtain, theatre curtain'}]"
      ]
     },
     "execution_count": 36,
     "metadata": {},
     "output_type": "execute_result"
    }
   ],
   "source": [
    "json.loads(response_dict.get('body'))"
   ]
  },
  {
   "cell_type": "code",
   "execution_count": 31,
   "metadata": {},
   "outputs": [
    {
     "name": "stdout",
     "output_type": "stream",
     "text": [
      "Predictions:\n"
     ]
    },
    {
     "ename": "AttributeError",
     "evalue": "'str' object has no attribute 'get'",
     "output_type": "error",
     "traceback": [
      "\u001b[0;31m---------------------------------------------------------------------------\u001b[0m",
      "\u001b[0;31mAttributeError\u001b[0m                            Traceback (most recent call last)",
      "Cell \u001b[0;32mIn[31], line 7\u001b[0m\n\u001b[1;32m      5\u001b[0m \u001b[39mprint\u001b[39m(\u001b[39m\"\u001b[39m\u001b[39mPredictions:\u001b[39m\u001b[39m\"\u001b[39m)\n\u001b[1;32m      6\u001b[0m \u001b[39mfor\u001b[39;00m pred \u001b[39min\u001b[39;00m predictions:\n\u001b[0;32m----> 7\u001b[0m     class_name \u001b[39m=\u001b[39m pred\u001b[39m.\u001b[39;49mget(\u001b[39m\"\u001b[39m\u001b[39mlabel\u001b[39m\u001b[39m\"\u001b[39m, {})\u001b[39m.\u001b[39mget(\u001b[39m\"\u001b[39m\u001b[39mdisplay_name\u001b[39m\u001b[39m\"\u001b[39m, \u001b[39m\"\u001b[39m\u001b[39mUnknown\u001b[39m\u001b[39m\"\u001b[39m)\n\u001b[1;32m      8\u001b[0m     score \u001b[39m=\u001b[39m pred\u001b[39m.\u001b[39mget(\u001b[39m\"\u001b[39m\u001b[39mlabel\u001b[39m\u001b[39m\"\u001b[39m, {})\u001b[39m.\u001b[39mget(\u001b[39m\"\u001b[39m\u001b[39mscore\u001b[39m\u001b[39m\"\u001b[39m, \u001b[39m0.0\u001b[39m)\n\u001b[1;32m      9\u001b[0m     \u001b[39mprint\u001b[39m(\u001b[39mf\u001b[39m\u001b[39m\"\u001b[39m\u001b[39m{\u001b[39;00mclass_name\u001b[39m}\u001b[39;00m\u001b[39m: \u001b[39m\u001b[39m{\u001b[39;00mscore\u001b[39m:\u001b[39;00m\u001b[39m.2f\u001b[39m\u001b[39m}\u001b[39;00m\u001b[39m\"\u001b[39m)\n",
      "\u001b[0;31mAttributeError\u001b[0m: 'str' object has no attribute 'get'"
     ]
    }
   ],
   "source": [
    "predictions = response_dict.get(\"body\")\n",
    "\n",
    "# Format and print the prediction results\n",
    "if len(predictions) > 0:\n",
    "    print(\"Predictions:\")\n",
    "    for pred in predictions:\n",
    "        class_name = pred.get(\"label\", {}).get(\"display_name\", \"Unknown\")\n",
    "        score = pred.get(\"label\", {}).get(\"score\", 0.0)\n",
    "        print(f\"{class_name}: {score:.2f}\")\n",
    "else:\n",
    "    print(\"No predictions found.\")"
   ]
  }
 ],
 "metadata": {
  "kernelspec": {
   "display_name": "Python 3",
   "language": "python",
   "name": "python3"
  },
  "language_info": {
   "codemirror_mode": {
    "name": "ipython",
    "version": 3
   },
   "file_extension": ".py",
   "mimetype": "text/x-python",
   "name": "python",
   "nbconvert_exporter": "python",
   "pygments_lexer": "ipython3",
   "version": "3.10.4"
  },
  "orig_nbformat": 4
 },
 "nbformat": 4,
 "nbformat_minor": 2
}
