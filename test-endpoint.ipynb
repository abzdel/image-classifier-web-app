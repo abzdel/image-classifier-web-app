{
 "cells": [
  {
   "cell_type": "code",
   "execution_count": 1,
   "metadata": {},
   "outputs": [],
   "source": [
    "import boto3\n",
    "import json\n",
    "from PIL import Image\n",
    "import io\n",
    "\n",
    "# Set up the SageMaker client\n",
    "sagemaker_client = boto3.client('sagemaker-runtime')\n",
    "\n",
    "# Set up the endpoint name and the input data\n",
    "endpoint_name = \"huggingface-pytorch-inference-2023-05-02-00-15-37-215\"\n"
   ]
  },
  {
   "cell_type": "code",
   "execution_count": 2,
   "metadata": {},
   "outputs": [],
   "source": [
    "# Load the local image\n",
    "image_path = 'tiger.jpg'\n",
    "with open(image_path, 'rb') as f:\n",
    "    image_bytes = f.read()\n",
    "\n",
    "# Convert the image to bytes\n",
    "with io.BytesIO(image_bytes) as buffer:\n",
    "    image = Image.open(buffer)\n",
    "    image.save(buffer, format='JPEG')\n",
    "    image_bytes = buffer.getvalue()\n",
    "\n",
    "# Send the request to the endpoint\n",
    "response = sagemaker_client.invoke_endpoint(\n",
    "    EndpointName=endpoint_name,\n",
    "    ContentType='image/jpeg',\n",
    "    Body=image_bytes\n",
    ")\n",
    "\n",
    "# Get the response\n",
    "result = response['Body'].read().decode('utf-8')"
   ]
  }
 ],
 "metadata": {
  "kernelspec": {
   "display_name": "Python 3",
   "language": "python",
   "name": "python3"
  },
  "language_info": {
   "codemirror_mode": {
    "name": "ipython",
    "version": 3
   },
   "file_extension": ".py",
   "mimetype": "text/x-python",
   "name": "python",
   "nbconvert_exporter": "python",
   "pygments_lexer": "ipython3",
   "version": "3.10.4"
  },
  "orig_nbformat": 4
 },
 "nbformat": 4,
 "nbformat_minor": 2
}
