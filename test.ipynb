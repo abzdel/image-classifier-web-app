{
 "cells": [
  {
   "cell_type": "code",
   "execution_count": null,
   "metadata": {},
   "outputs": [],
   "source": [
    "import base64\n",
    "\n",
    "# Read the image file in binary mode\n",
    "with open('tiger.jpg', 'rb') as f:\n",
    "    image_data = f.read()\n",
    "\n",
    "# Encode the image data as base64\n",
    "base64_data = base64.b64encode(image_data).decode('utf-8')\n",
    "\n",
    "# Print the base64 encoded string\n",
    "print(base64_data)\n"
   ]
  }
 ],
 "metadata": {
  "language_info": {
   "name": "python"
  },
  "orig_nbformat": 4
 },
 "nbformat": 4,
 "nbformat_minor": 2
}
